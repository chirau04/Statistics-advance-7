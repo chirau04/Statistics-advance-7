{
 "cells": [
  {
   "cell_type": "code",
   "execution_count": 1,
   "id": "500da1af-6ff6-40d4-9f43-d375994fab05",
   "metadata": {},
   "outputs": [
    {
     "name": "stdout",
     "output_type": "stream",
     "text": [
      "F-value: 1.0\n",
      "P-value: 0.5\n"
     ]
    }
   ],
   "source": [
    "import numpy as np\n",
    "from scipy.stats import f\n",
    "\n",
    "def variance_ratio_test(data1, data2):\n",
    "    # Calculate variances\n",
    "    var1 = np.var(data1, ddof=1)  # ddof=1 for unbiased estimation\n",
    "    var2 = np.var(data2, ddof=1)\n",
    "    \n",
    "    # Ensure var1 is the larger variance\n",
    "    if var1 < var2:\n",
    "        var1, var2 = var2, var1\n",
    "        data1, data2 = data2, data1\n",
    "    \n",
    "    # Calculate F-value\n",
    "    f_value = var1 / var2\n",
    "    \n",
    "    # Calculate degrees of freedom\n",
    "    df1 = len(data1) - 1\n",
    "    df2 = len(data2) - 1\n",
    "    \n",
    "    # Calculate p-value\n",
    "    p_value = f.cdf(f_value, df1, df2)\n",
    "    \n",
    "    return f_value, p_value\n",
    "\n",
    "# Example usage:\n",
    "data1 = [1, 2, 3, 4, 5]\n",
    "data2 = [3, 4, 5, 6, 7]\n",
    "f_value, p_value = variance_ratio_test(data1, data2)\n",
    "print(\"F-value:\", f_value)\n",
    "print(\"P-value:\", p_value)"
   ]
  },
  {
   "cell_type": "code",
   "execution_count": 2,
   "id": "73ba5a00-f9ca-4ee7-96bb-f8150788f106",
   "metadata": {},
   "outputs": [
    {
     "name": "stdout",
     "output_type": "stream",
     "text": [
      "Critical F-value: 7.763589482018546\n"
     ]
    }
   ],
   "source": [
    "from scipy.stats import f\n",
    "\n",
    "def critical_f_value(df1, df2, alpha=0.05):\n",
    "    # Calculate critical f-value\n",
    "    critical_value = f.ppf(1 - alpha/2, df1, df2)\n",
    "    \n",
    "    return critical_value\n",
    "\n",
    "# Example usage:\n",
    "df1 = 3\n",
    "df2 = 5\n",
    "alpha = 0.05\n",
    "critical_value = critical_f_value(df1, df2, alpha)\n",
    "print(\"Critical F-value:\", critical_value)"
   ]
  },
  {
   "cell_type": "code",
   "execution_count": 3,
   "id": "2334fee9-cd03-4dd0-bbd2-a5fd57028344",
   "metadata": {},
   "outputs": [
    {
     "name": "stdout",
     "output_type": "stream",
     "text": [
      "F-value: 1.5251358368032104\n",
      "Degrees of freedom (numerator): 19\n",
      "Degrees of freedom (denominator): 19\n",
      "P-value: 0.8171610552042096\n"
     ]
    }
   ],
   "source": [
    "import numpy as np\n",
    "from scipy.stats import f\n",
    "\n",
    "def f_test(data1, data2):\n",
    "    # Calculate variances\n",
    "    var1 = np.var(data1, ddof=1)  # ddof=1 for unbiased estimation\n",
    "    var2 = np.var(data2, ddof=1)\n",
    "    \n",
    "    # Ensure var1 is the larger variance\n",
    "    if var1 < var2:\n",
    "        var1, var2 = var2, var1\n",
    "        data1, data2 = data2, data1\n",
    "    \n",
    "    # Calculate F-value\n",
    "    f_value = var1 / var2\n",
    "    \n",
    "    # Calculate degrees of freedom\n",
    "    df1 = len(data1) - 1\n",
    "    df2 = len(data2) - 1\n",
    "    \n",
    "    # Calculate p-value\n",
    "    p_value = f.cdf(f_value, df1, df2)\n",
    "    \n",
    "    return f_value, df1, df2, p_value\n",
    "\n",
    "# Generate random samples\n",
    "np.random.seed(42)  # for reproducibility\n",
    "mean1, mean2 = 0, 0\n",
    "variance1, variance2 = 2, 3\n",
    "size1, size2 = 20, 20\n",
    "data1 = np.random.normal(mean1, np.sqrt(variance1), size1)\n",
    "data2 = np.random.normal(mean2, np.sqrt(variance2), size2)\n",
    "\n",
    "# Perform F-test\n",
    "f_value, df1, df2, p_value = f_test(data1, data2)\n",
    "\n",
    "# Output results\n",
    "print(\"F-value:\", f_value)\n",
    "print(\"Degrees of freedom (numerator):\", df1)\n",
    "print(\"Degrees of freedom (denominator):\", df2)\n",
    "print(\"P-value:\", p_value)"
   ]
  },
  {
   "cell_type": "code",
   "execution_count": 4,
   "id": "32de975d-c695-47aa-a7ec-25509369ec05",
   "metadata": {},
   "outputs": [
    {
     "name": "stdout",
     "output_type": "stream",
     "text": [
      "F-value: 1.5\n",
      "Critical F-value: 3.473699051085809\n",
      "Result: Fail to reject null hypothesis: Variances are not significantly different.\n"
     ]
    }
   ],
   "source": [
    "from scipy.stats import f\n",
    "\n",
    "# Given data\n",
    "variance1 = 10\n",
    "variance2 = 15\n",
    "sample_size = 12\n",
    "alpha = 0.05\n",
    "\n",
    "# Calculate degrees of freedom\n",
    "df1 = sample_size - 1\n",
    "df2 = sample_size - 1\n",
    "\n",
    "# Calculate F-value\n",
    "f_value = variance2 / variance1\n",
    "\n",
    "# Calculate critical F-value\n",
    "critical_value = f.ppf(1 - alpha/2, df1, df2)\n",
    "\n",
    "# Perform F-test\n",
    "if f_value > critical_value or f_value < 1/critical_value:\n",
    "    # Reject null hypothesis\n",
    "    result = \"Reject null hypothesis: Variances are significantly different.\"\n",
    "else:\n",
    "    # Fail to reject null hypothesis\n",
    "    result = \"Fail to reject null hypothesis: Variances are not significantly different.\"\n",
    "\n",
    "# Output result\n",
    "print(\"F-value:\", f_value)\n",
    "print(\"Critical F-value:\", critical_value)\n",
    "print(\"Result:\", result)"
   ]
  },
  {
   "cell_type": "code",
   "execution_count": 5,
   "id": "f28fa856-c32f-4796-9248-bd8226207e7b",
   "metadata": {},
   "outputs": [
    {
     "name": "stdout",
     "output_type": "stream",
     "text": [
      "F-value: 1.2\n",
      "Critical F-value: 2.659072104348157\n",
      "Result: Fail to reject null hypothesis: Claim is justified.\n"
     ]
    }
   ],
   "source": [
    "from scipy.stats import f\n",
    "\n",
    "# Given data\n",
    "sample_size = 25\n",
    "claimed_variance = 0.005\n",
    "sample_variance = 0.006\n",
    "alpha = 0.01\n",
    "\n",
    "# Calculate degrees of freedom\n",
    "df1 = sample_size - 1\n",
    "df2 = sample_size - 1\n",
    "\n",
    "# Calculate F-value\n",
    "f_value = sample_variance / claimed_variance\n",
    "\n",
    "# Calculate critical F-value\n",
    "critical_value = f.ppf(1 - alpha, df1, df2)\n",
    "\n",
    "# Perform F-test\n",
    "if f_value > critical_value:\n",
    "    # Reject null hypothesis\n",
    "    result = \"Reject null hypothesis: Claim is not justified.\"\n",
    "else:\n",
    "    # Fail to reject null hypothesis\n",
    "    result = \"Fail to reject null hypothesis: Claim is justified.\"\n",
    "\n",
    "# Output result\n",
    "print(\"F-value:\", f_value)\n",
    "print(\"Critical F-value:\", critical_value)\n",
    "print(\"Result:\", result)"
   ]
  },
  {
   "cell_type": "code",
   "execution_count": 6,
   "id": "d7a41945-3c63-4cef-a911-d6d24b94e139",
   "metadata": {},
   "outputs": [
    {
     "ename": "SyntaxError",
     "evalue": "invalid syntax. Perhaps you forgot a comma? (3930603906.py, line 6)",
     "output_type": "error",
     "traceback": [
      "\u001b[0;36m  Cell \u001b[0;32mIn[6], line 6\u001b[0;36m\u001b[0m\n\u001b[0;31m    variance = (2 * (df2  2) * (df1 + df2 - 2)) / (df1 * ((df2 - 2)  2) * (df2 - 4))\u001b[0m\n\u001b[0m                     ^\u001b[0m\n\u001b[0;31mSyntaxError\u001b[0m\u001b[0;31m:\u001b[0m invalid syntax. Perhaps you forgot a comma?\n"
     ]
    }
   ],
   "source": [
    "def f_distribution_mean_variance(df1, df2):\n",
    "    # Calculate mean\n",
    "    mean = df2 / (df2 - 2)\n",
    "    \n",
    "    # Calculate variance\n",
    "    variance = (2 * (df2  2) * (df1 + df2 - 2)) / (df1 * ((df2 - 2)  2) * (df2 - 4))\n",
    "    \n",
    "    return mean, variance\n",
    "\n",
    "# Example usage:\n",
    "df1 = 3\n",
    "df2 = 5\n",
    "mean, variance = f_distribution_mean_variance(df1, df2)\n",
    "print(\"Mean:\", mean)\n",
    "print(\"Variance:\", variance)"
   ]
  },
  {
   "cell_type": "code",
   "execution_count": 7,
   "id": "2bef5b7f-3c81-46f7-86f6-f6268db30dde",
   "metadata": {},
   "outputs": [
    {
     "name": "stdout",
     "output_type": "stream",
     "text": [
      "F-value: 1.0\n",
      "Critical F-value: 7.146381828732832\n",
      "Result: Fail to reject null hypothesis: Variances are not significantly different.\n"
     ]
    }
   ],
   "source": [
    "from scipy.stats import f\n",
    "\n",
    "# Given data\n",
    "waiting_times_restaurant_A = [24, 25, 28, 23, 22, 27]\n",
    "waiting_times_restaurant_B = [31, 33, 35, 30, 32, 36]\n",
    "alpha = 0.05\n",
    "\n",
    "# Calculate sample variances\n",
    "variance_A = sum((x - sum(waiting_times_restaurant_A) / len(waiting_times_restaurant_A))**2 for x in waiting_times_restaurant_A) / (len(waiting_times_restaurant_A) - 1)\n",
    "variance_B = sum((x - sum(waiting_times_restaurant_B) / len(waiting_times_restaurant_B))**2 for x in waiting_times_restaurant_B) / (len(waiting_times_restaurant_B) - 1)\n",
    "\n",
    "# Calculate degrees of freedom\n",
    "df1 = len(waiting_times_restaurant_A) - 1\n",
    "df2 = len(waiting_times_restaurant_B) - 1\n",
    "\n",
    "# Calculate F-value\n",
    "f_value = variance_A / variance_B\n",
    "\n",
    "# Calculate critical F-value\n",
    "critical_value = f.ppf(1 - alpha/2, df1, df2)\n",
    "\n",
    "# Perform F-test\n",
    "if f_value > critical_value or f_value < 1/critical_value:\n",
    "    # Reject null hypothesis\n",
    "    result = \"Reject null hypothesis: Variances are significantly different.\"\n",
    "else:\n",
    "    # Fail to reject null hypothesis\n",
    "    result = \"Fail to reject null hypothesis: Variances are not significantly different.\"\n",
    "\n",
    "# Output result\n",
    "print(\"F-value:\", f_value)\n",
    "print(\"Critical F-value:\", critical_value)\n",
    "print(\"Result:\", result)"
   ]
  },
  {
   "cell_type": "code",
   "execution_count": 8,
   "id": "e53b58a6-03d7-4685-a336-93618c5750b8",
   "metadata": {},
   "outputs": [
    {
     "name": "stdout",
     "output_type": "stream",
     "text": [
      "F-value: 1.9442622950819677\n",
      "Critical F-value: 14.939605459912224\n",
      "Result: Fail to reject null hypothesis: Variances are not significantly different.\n"
     ]
    }
   ],
   "source": [
    "from scipy.stats import f\n",
    "\n",
    "# Given data\n",
    "group_A_scores = [80, 85, 90, 92, 87, 83]\n",
    "group_B_scores = [75, 78, 82, 79, 81, 84]\n",
    "alpha = 0.01\n",
    "\n",
    "# Calculate sample variances\n",
    "variance_A = sum((x - sum(group_A_scores) / len(group_A_scores))**2 for x in group_A_scores) / (len(group_A_scores) - 1)\n",
    "variance_B = sum((x - sum(group_B_scores) / len(group_B_scores))**2 for x in group_B_scores) / (len(group_B_scores) - 1)\n",
    "\n",
    "# Calculate degrees of freedom\n",
    "df1 = len(group_A_scores) - 1\n",
    "df2 = len(group_B_scores) - 1\n",
    "\n",
    "# Calculate F-value\n",
    "f_value = variance_A / variance_B\n",
    "\n",
    "# Calculate critical F-value\n",
    "critical_value = f.ppf(1 - alpha/2, df1, df2)\n",
    "\n",
    "# Perform F-test\n",
    "if f_value > critical_value or f_value < 1/critical_value:\n",
    "    # Reject null hypothesis\n",
    "    result = \"Reject null hypothesis: Variances are significantly different.\"\n",
    "else:\n",
    "    # Fail to reject null hypothesis\n",
    "    result = \"Fail to reject null hypothesis: Variances are not significantly different.\"\n",
    "\n",
    "# Output result\n",
    "print(\"F-value:\", f_value)\n",
    "print(\"Critical F-value:\", critical_value)\n",
    "print(\"Result:\", result)"
   ]
  },
  {
   "cell_type": "code",
   "execution_count": null,
   "id": "57e0cf57-3230-409a-8059-805ec4b6b9ca",
   "metadata": {},
   "outputs": [],
   "source": []
  }
 ],
 "metadata": {
  "kernelspec": {
   "display_name": "Python 3 (ipykernel)",
   "language": "python",
   "name": "python3"
  },
  "language_info": {
   "codemirror_mode": {
    "name": "ipython",
    "version": 3
   },
   "file_extension": ".py",
   "mimetype": "text/x-python",
   "name": "python",
   "nbconvert_exporter": "python",
   "pygments_lexer": "ipython3",
   "version": "3.10.8"
  }
 },
 "nbformat": 4,
 "nbformat_minor": 5
}
